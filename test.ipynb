{
 "cells": [
  {
   "cell_type": "code",
   "execution_count": 63,
   "id": "5e00c2e5-3692-4e7e-bd24-284fcb5ccc51",
   "metadata": {
    "tags": []
   },
   "outputs": [],
   "source": [
    "%reload_ext autoreload\n",
    "%autoreload 2\n",
    "\n",
    "\n",
    "import graph_loader as gl\n",
    "from visualization import visualize_graph, ICONS"
   ]
  },
  {
   "cell_type": "code",
   "execution_count": 4,
   "id": "091035eb-96fa-4409-be4e-64ba5c1ea2cc",
   "metadata": {
    "tags": []
   },
   "outputs": [],
   "source": [
    "bucket = 'riskyrelations-dev' \n",
    "prefix = 's3://riskyrelations-dev/projects/HRGCN/PROTO/Models/GLOBAL/v3/processed_data/2023-10-01/exp_1_input/graph_data'\n",
    "key = 'ginterm_all.pkl'\n",
    "g_meta = gl.load_graph_s3(bucket, prefix, key)"
   ]
  },
  {
   "cell_type": "code",
   "execution_count": 37,
   "id": "df03fac0-9920-4112-8d8d-ce11eba54789",
   "metadata": {
    "tags": []
   },
   "outputs": [],
   "source": [
    "g, id_to_node_all, node_to_id_all = gl.get_graph_metadata(g_meta)"
   ]
  },
  {
   "cell_type": "code",
   "execution_count": 38,
   "id": "7c541e30-f8ac-4202-bda4-3995576d055a",
   "metadata": {
    "tags": []
   },
   "outputs": [],
   "source": [
    "category = 'target'\n",
    "selected_seeds = ['445502256302']\n",
    "nhops = 2\n",
    "fanout = 10\n",
    "seeds = [id_to_node_all[category][str(s)] for s in selected_seeds if str(s) in id_to_node_all[category]]\n",
    "blocks, seeds, batch_nids, input_nodes, block_node_to_graph_id, graph_id_to_block_node = gl.sample_graph(g, category, nhops, fanout, seeds)"
   ]
  },
  {
   "cell_type": "code",
   "execution_count": 73,
   "id": "6685e94d-55a8-44cd-9031-ca05f00d0fd5",
   "metadata": {
    "tags": []
   },
   "outputs": [],
   "source": [
    "nodes_and_edges_list = gl.extract_nodes_edges(blocks, \n",
    "                       block_mapping = block_node_to_graph_id, \n",
    "                       graph_mapping = node_to_id_all)"
   ]
  },
  {
   "cell_type": "code",
   "execution_count": 79,
   "id": "6055ce48-f743-41ac-9515-5464a9a06ea8",
   "metadata": {
    "tags": []
   },
   "outputs": [
    {
     "name": "stdout",
     "output_type": "stream",
     "text": [
      "nx.html\n"
     ]
    },
    {
     "data": {
      "text/html": [
       "\n",
       "        <iframe\n",
       "            width=\"1800px\"\n",
       "            height=\"1200px\"\n",
       "            src=\"nx.html\"\n",
       "            frameborder=\"0\"\n",
       "            allowfullscreen\n",
       "            \n",
       "        ></iframe>\n",
       "        "
      ],
      "text/plain": [
       "<IPython.lib.display.IFrame at 0x7f52f44dd280>"
      ]
     },
     "execution_count": 79,
     "metadata": {},
     "output_type": "execute_result"
    }
   ],
   "source": [
    "visualize_graph(nodes_and_edges_list)"
   ]
  },
  {
   "cell_type": "code",
   "execution_count": 67,
   "id": "5a39ab9d-4f54-48ce-a47f-5b409bf2c09a",
   "metadata": {
    "tags": []
   },
   "outputs": [
    {
     "data": {
      "text/plain": [
       "'./imgs'"
      ]
     },
     "execution_count": 67,
     "metadata": {},
     "output_type": "execute_result"
    }
   ],
   "source": [
    "import os\n",
    "os.path.join(os.curdir, 'imgs')"
   ]
  },
  {
   "cell_type": "code",
   "execution_count": null,
   "id": "ad0881e7-2295-4544-917a-cdf4455203c8",
   "metadata": {},
   "outputs": [],
   "source": []
  },
  {
   "cell_type": "code",
   "execution_count": null,
   "id": "5d27205b-0ecd-4e40-a794-4274114c88ca",
   "metadata": {},
   "outputs": [],
   "source": []
  },
  {
   "cell_type": "code",
   "execution_count": 52,
   "id": "9acb9569-fb1a-4f0c-9ae5-1a100a3d5ce2",
   "metadata": {
    "tags": []
   },
   "outputs": [
    {
     "name": "stdout",
     "output_type": "stream",
     "text": [
      "75126\n"
     ]
    },
    {
     "data": {
      "text/plain": [
       "'NQOqRFc2RT+XDNtYMZteXg'"
      ]
     },
     "execution_count": 52,
     "metadata": {},
     "output_type": "execute_result"
    }
   ],
   "source": [
    "gl.get_root_node_id(block_mapping = block_node_to_graph_id, graph_mapping = node_to_id_all, ntype = 'email', node_id=0)"
   ]
  },
  {
   "cell_type": "code",
   "execution_count": null,
   "id": "b87fe622-9222-46d7-931f-eebb15496a62",
   "metadata": {},
   "outputs": [],
   "source": []
  }
 ],
 "metadata": {
  "kernelspec": {
   "display_name": "conda_pygnn",
   "language": "python",
   "name": "conda_pygnn"
  },
  "language_info": {
   "codemirror_mode": {
    "name": "ipython",
    "version": 3
   },
   "file_extension": ".py",
   "mimetype": "text/x-python",
   "name": "python",
   "nbconvert_exporter": "python",
   "pygments_lexer": "ipython3",
   "version": "3.9.13"
  }
 },
 "nbformat": 4,
 "nbformat_minor": 5
}
